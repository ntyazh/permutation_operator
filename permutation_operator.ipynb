{
  "metadata": {
    "colab": {
      "provenance": []
    },
    "kernelspec": {
      "name": "python3",
      "display_name": "Python 3",
      "language": "python"
    },
    "language_info": {
      "name": "python",
      "version": "3.10.13",
      "mimetype": "text/x-python",
      "codemirror_mode": {
        "name": "ipython",
        "version": 3
      },
      "pygments_lexer": "ipython3",
      "nbconvert_exporter": "python",
      "file_extension": ".py"
    },
    "kaggle": {
      "accelerator": "none",
      "dataSources": [],
      "dockerImageVersionId": 30698,
      "isInternetEnabled": true,
      "language": "python",
      "sourceType": "notebook",
      "isGpuEnabled": false
    }
  },
  "nbformat_minor": 0,
  "nbformat": 4,
  "cells": [
    {
      "cell_type": "markdown",
      "source": [
        "# Installing packages and defining functions"
      ],
      "metadata": {
        "id": "LmwZyymqlKur"
      }
    },
    {
      "cell_type": "code",
      "source": [
        "!pip install --upgrade git+https://github.com/evfro/polara.git@develop#egg=polara"
      ],
      "metadata": {
        "id": "osaxmYab2cme",
        "outputId": "eeb2fa41-dcdc-4bf8-eaac-c61ba8a1e7c7",
        "execution": {
          "iopub.status.busy": "2024-05-13T11:41:18.596732Z",
          "iopub.execute_input": "2024-05-13T11:41:18.597319Z",
          "iopub.status.idle": "2024-05-13T11:41:36.940424Z",
          "shell.execute_reply.started": "2024-05-13T11:41:18.597291Z",
          "shell.execute_reply": "2024-05-13T11:41:36.939636Z"
        },
        "trusted": true,
        "colab": {
          "base_uri": "https://localhost:8080/"
        }
      },
      "execution_count": null,
      "outputs": [
        {
          "output_type": "stream",
          "name": "stdout",
          "text": [
            "Collecting polara\n",
            "  Cloning https://github.com/evfro/polara.git (to revision develop) to /tmp/pip-install-0wbi606t/polara_e681326482164eda96ae68214decd15a\n",
            "  Running command git clone --filter=blob:none --quiet https://github.com/evfro/polara.git /tmp/pip-install-0wbi606t/polara_e681326482164eda96ae68214decd15a\n",
            "  Running command git checkout -b develop --track origin/develop\n",
            "  Switched to a new branch 'develop'\n",
            "  Branch 'develop' set up to track remote branch 'develop' from 'origin'.\n",
            "  Resolved https://github.com/evfro/polara.git to commit 8e48cfd88e616ca53f8bbda1702a3e2c8abaf38e\n",
            "  Preparing metadata (setup.py) ... \u001b[?25l\u001b[?25hdone\n",
            "Building wheels for collected packages: polara\n",
            "  Building wheel for polara (setup.py) ... \u001b[?25l\u001b[?25hdone\n",
            "  Created wheel for polara: filename=polara-0.7.2.dev0-py3-none-any.whl size=89447 sha256=09d3e7879083ee8a8c82317c93b56fc905a7e4593f24d98147258d5ed1312a2f\n",
            "  Stored in directory: /tmp/pip-ephem-wheel-cache-pmqws7zv/wheels/3f/3a/1f/42058978e585b23c384652846b96b72870f3c8c12976cdac50\n",
            "Successfully built polara\n",
            "Installing collected packages: polara\n",
            "Successfully installed polara-0.7.2.dev0\n"
          ]
        }
      ]
    },
    {
      "cell_type": "code",
      "source": [
        "from typing import Optional, Union\n",
        "from scipy.sparse import csr_matrix\n",
        "import pandas as pd\n",
        "\n",
        "\n",
        "def leave_last_out(data, userid='userid', timeid='timestamp'):\n",
        "    data_sorted = data.sort_values('timestamp')\n",
        "    holdout = data_sorted.drop_duplicates(\n",
        "        subset=['userid'], keep='last'\n",
        "    ) # split the last item from each user's history\n",
        "    remaining = data.drop(holdout.index) # store the remaining data - will be our training\n",
        "    return remaining, holdout\n",
        "\n",
        "\n",
        "def transform_indices(data: pd.DataFrame, users: str, items:str, inplace: bool=False):\n",
        "    data_index = {}\n",
        "    data_codes = {}\n",
        "    for entity, field in zip(['users', 'items'], [users, items]):\n",
        "        new_index, data_index[entity] = to_numeric_id(data, field)\n",
        "        if inplace:\n",
        "            data.loc[:, field] = new_index\n",
        "        else:\n",
        "            data_codes[field] = new_index\n",
        "\n",
        "    if data_codes:\n",
        "        data = data.assign(**data_codes) # makes a copy of data\n",
        "    return data, data_index\n",
        "\n",
        "\n",
        "def to_numeric_id(data, field):\n",
        "    idx_data = data[field].astype(\"category\")\n",
        "    idx = idx_data.cat.codes\n",
        "    idx_map = idx_data.cat.categories.rename(field)\n",
        "    return idx, idx_map\n",
        "\n",
        "\n",
        "def reindex_data(\n",
        "        data: pd.DataFrame,\n",
        "        data_index: dict,\n",
        "        entities: Optional[Union[str, list[str]]] = None,\n",
        "        filter_invalid: bool = True,\n",
        "        inplace: bool = False\n",
        "    ):\n",
        "    if entities is None:\n",
        "        entities = data_index.keys()\n",
        "    if isinstance(entities, str): # handle single entity provided as a string\n",
        "        entities = [entities]\n",
        "\n",
        "    data_codes = {}\n",
        "    for entity in entities:\n",
        "        entity_index = data_index[entity]\n",
        "        field = entity_index.name # extract the field name\n",
        "        new_index = entity_index.get_indexer(data[field])\n",
        "        if inplace:\n",
        "            data.loc[:, field] = new_index # assign new values inplace\n",
        "        else:\n",
        "            data_codes[field] = new_index # store new values\n",
        "\n",
        "    if data_codes:\n",
        "        data = data.assign(**data_codes) # assign new values by making a copy\n",
        "\n",
        "    if filter_invalid: # discard unrecognized entity index\n",
        "        valid_values = [f'{data_index[entity].name}>=0' for entity in entities]\n",
        "        data = data.query(' and '.join(valid_values))\n",
        "    return data\n",
        "\n",
        "\n",
        "def generate_interactions_matrix(data, data_description, rebase_users=False):\n",
        "    n_users = data_description['n_users']\n",
        "    n_items = data_description['n_items']\n",
        "    # get indices of observed data\n",
        "    user_idx = data[data_description['users']].values\n",
        "    if rebase_users: # handle non-contiguous index of test users\n",
        "        # This ensures that all user ids are contiguous and start from 0,\n",
        "        # which helps ensure data consistency at the scoring stage.\n",
        "        user_idx, user_index = pd.factorize(user_idx, sort=True)\n",
        "        n_users = len(user_index)\n",
        "    item_idx = data[data_description['items']].values\n",
        "    feedback = data[data_description['feedback']].values\n",
        "    # construct rating matrix\n",
        "    return csr_matrix((feedback, (user_idx, item_idx)), shape=(n_users, n_items))\n",
        "\n",
        "\n",
        "def verify_time_split(before, after, target_field='userid', timeid='timestamp'):\n",
        "    '''\n",
        "    Check that items from `after` dataframe have later timestamps than\n",
        "    any corresponding item from the `before` dataframe. Compare w.r.t target_field.\n",
        "    Usage example: assert that for any user, the holdout items are the most recent ones.\n",
        "    '''\n",
        "    before_ts = before.groupby(target_field)[timeid].max()\n",
        "    after_ts = after.groupby(target_field)[timeid].min()\n",
        "    assert (\n",
        "        before_ts\n",
        "        .reindex(after_ts.index)\n",
        "        .combine(after_ts, lambda x, y: True if x!=x else x <= y)\n",
        "    ).all()"
      ],
      "metadata": {
        "execution": {
          "iopub.status.busy": "2024-05-13T11:41:36.943479Z",
          "iopub.execute_input": "2024-05-13T11:41:36.943844Z",
          "iopub.status.idle": "2024-05-13T11:41:37.450012Z",
          "shell.execute_reply.started": "2024-05-13T11:41:36.943809Z",
          "shell.execute_reply": "2024-05-13T11:41:37.449042Z"
        },
        "trusted": true,
        "id": "uN91Imtn57S1"
      },
      "execution_count": null,
      "outputs": []
    },
    {
      "cell_type": "code",
      "source": [
        "from polara import get_movielens_data\n",
        "import pandas as pd\n",
        "\n",
        "import scipy\n",
        "from scipy import sparse as sp\n",
        "import numpy as np\n",
        "from scipy.sparse.linalg import svds, LinearOperator\n",
        "\n",
        "import seaborn as sns\n",
        "import matplotlib.pyplot as plt\n",
        "\n",
        "from scipy.spatial.distance import euclidean\n",
        "\n",
        "sns.set_style('darkgrid')"
      ],
      "metadata": {
        "id": "W_kpFyvd2URI",
        "execution": {
          "iopub.status.busy": "2024-05-13T11:41:37.452308Z",
          "iopub.execute_input": "2024-05-13T11:41:37.453282Z",
          "iopub.status.idle": "2024-05-13T11:41:39.300776Z",
          "shell.execute_reply.started": "2024-05-13T11:41:37.453244Z",
          "shell.execute_reply": "2024-05-13T11:41:39.299872Z"
        },
        "trusted": true
      },
      "execution_count": null,
      "outputs": []
    },
    {
      "cell_type": "code",
      "source": [
        "def downvote_seen_items(scores, data, data_description):\n",
        "    assert isinstance(scores, np.ndarray), 'Scores must be a dense numpy array!'\n",
        "    itemid = data_description['items']\n",
        "    userid = data_description['users']\n",
        "    # get indices of observed data, corresponding to scores array\n",
        "    # we need to provide correct mapping of rows in scores array into\n",
        "    # the corresponding user index (which is assumed to be sorted)\n",
        "    row_idx, test_users = pd.factorize(data[userid], sort=True)\n",
        "    assert len(test_users) == scores.shape[0]\n",
        "    col_idx = data[itemid].values\n",
        "    # downvote scores at the corresponding positions\n",
        "    scores[row_idx, col_idx] = scores.min() - 1\n",
        "\n",
        "\n",
        "def topn_recommendations(scores, topn=10):\n",
        "    recommendations = np.apply_along_axis(topidx, 1, scores, topn)\n",
        "    return recommendations\n",
        "\n",
        "\n",
        "def topidx(a, topn):\n",
        "    parted = np.argpartition(a, -topn)[-topn:]\n",
        "    return parted[np.argsort(-a[parted])]\n",
        "\n",
        "\n",
        "def model_evaluate(recommended_items, holdout, holdout_description, topn=10):\n",
        "    itemid = holdout_description['items']\n",
        "    holdout_items = holdout[itemid].values\n",
        "    assert recommended_items.shape[0] == len(holdout_items)\n",
        "    hits_mask = recommended_items[:, :topn] == holdout_items.reshape(-1, 1)\n",
        "    # HR calculation\n",
        "    hr = np.mean(hits_mask.any(axis=1))\n",
        "    # MRR calculation\n",
        "    n_test_users = recommended_items.shape[0]\n",
        "    hit_rank = np.where(hits_mask)[1] + 1.0\n",
        "    mrr = np.sum(1 / hit_rank) / n_test_users\n",
        "    # coverage calculation\n",
        "    n_items = holdout_description['n_items']\n",
        "    cov = np.unique(recommended_items).size / n_items\n",
        "    return hr, mrr, cov"
      ],
      "metadata": {
        "id": "dOwyONM9tAZt",
        "execution": {
          "iopub.status.busy": "2024-05-13T11:41:39.302980Z",
          "iopub.execute_input": "2024-05-13T11:41:39.303265Z",
          "iopub.status.idle": "2024-05-13T11:41:39.314260Z",
          "shell.execute_reply.started": "2024-05-13T11:41:39.303240Z",
          "shell.execute_reply": "2024-05-13T11:41:39.313235Z"
        },
        "trusted": true
      },
      "execution_count": null,
      "outputs": []
    },
    {
      "cell_type": "code",
      "source": [
        "def get_M(matrix, i, j, q):\n",
        "    '''\n",
        "    Returns M(i, j) from the paper\n",
        "    '''\n",
        "    return matrix[i * q: (i + 1) * q, j * q: (j + 1) * q] #(i - 1) * q: i * q\n",
        "\n",
        "# test get_M:\n",
        "A_ = np.array([[1, 2, 3],\n",
        "              [4, 5, 6],\n",
        "              [7, 8, 9]])\n",
        "B = np.array([[1, 2],\n",
        "              [3, 4]])\n",
        "C = np.kron(A_, B)\n",
        "C"
      ],
      "metadata": {
        "id": "ocjH-FXWtwxJ",
        "outputId": "d8602b06-4c2d-4c75-e587-561f6e2203ca",
        "execution": {
          "iopub.status.busy": "2024-05-13T11:41:39.315423Z",
          "iopub.execute_input": "2024-05-13T11:41:39.316184Z",
          "iopub.status.idle": "2024-05-13T11:41:39.343276Z",
          "shell.execute_reply.started": "2024-05-13T11:41:39.316155Z",
          "shell.execute_reply": "2024-05-13T11:41:39.342476Z"
        },
        "trusted": true,
        "colab": {
          "base_uri": "https://localhost:8080/"
        }
      },
      "execution_count": null,
      "outputs": [
        {
          "output_type": "execute_result",
          "data": {
            "text/plain": [
              "array([[ 1,  2,  2,  4,  3,  6],\n",
              "       [ 3,  4,  6,  8,  9, 12],\n",
              "       [ 4,  8,  5, 10,  6, 12],\n",
              "       [12, 16, 15, 20, 18, 24],\n",
              "       [ 7, 14,  8, 16,  9, 18],\n",
              "       [21, 28, 24, 32, 27, 36]])"
            ]
          },
          "metadata": {},
          "execution_count": 5
        }
      ]
    },
    {
      "cell_type": "code",
      "source": [
        "get_M(C, 0, 1, 2)"
      ],
      "metadata": {
        "id": "a7325hInt3AX",
        "outputId": "dc324ced-0d62-472c-fa74-bbe936cf2d5e",
        "execution": {
          "iopub.status.busy": "2024-05-13T11:41:39.344465Z",
          "iopub.execute_input": "2024-05-13T11:41:39.344747Z",
          "iopub.status.idle": "2024-05-13T11:41:39.354737Z",
          "shell.execute_reply.started": "2024-05-13T11:41:39.344725Z",
          "shell.execute_reply": "2024-05-13T11:41:39.354008Z"
        },
        "trusted": true,
        "colab": {
          "base_uri": "https://localhost:8080/"
        }
      },
      "execution_count": null,
      "outputs": [
        {
          "output_type": "execute_result",
          "data": {
            "text/plain": [
              "array([[2, 4],\n",
              "       [6, 8]])"
            ]
          },
          "metadata": {},
          "execution_count": 6
        }
      ]
    },
    {
      "cell_type": "code",
      "source": [
        "get_M(C, 1, 1, 3)"
      ],
      "metadata": {
        "id": "hcGzkATHt6IZ",
        "outputId": "2661e06d-ff7f-46ef-f40d-0e0efcb98464",
        "execution": {
          "iopub.status.busy": "2024-05-13T11:41:39.356110Z",
          "iopub.execute_input": "2024-05-13T11:41:39.356406Z",
          "iopub.status.idle": "2024-05-13T11:41:39.365064Z",
          "shell.execute_reply.started": "2024-05-13T11:41:39.356360Z",
          "shell.execute_reply": "2024-05-13T11:41:39.364202Z"
        },
        "trusted": true,
        "colab": {
          "base_uri": "https://localhost:8080/"
        }
      },
      "execution_count": null,
      "outputs": [
        {
          "output_type": "execute_result",
          "data": {
            "text/plain": [
              "array([[20, 18, 24],\n",
              "       [16,  9, 18],\n",
              "       [32, 27, 36]])"
            ]
          },
          "metadata": {},
          "execution_count": 7
        }
      ]
    },
    {
      "cell_type": "code",
      "source": [
        "def vec(M, n_rows, n_cols):\n",
        "    '''\n",
        "    Returns vectorized version of matrix M (concatenates columns of M into column vector)\n",
        "    '''\n",
        "    return sp.vstack([M.getcol(j).reshape((n_rows, 1)) for j in range(n_cols)])\n",
        "\n",
        "# test vec:\n",
        "# A_ = np.array([[1, 0, 0, 1],\n",
        "#                [0, 0, 1, 0],\n",
        "#                [5, 3, 1, 9]])\n",
        "# vec(sp.csr_matrix(A_), 3, 4).A"
      ],
      "metadata": {
        "id": "vSacAiA3uAx5",
        "execution": {
          "iopub.status.busy": "2024-05-13T11:41:39.366592Z",
          "iopub.execute_input": "2024-05-13T11:41:39.367441Z",
          "iopub.status.idle": "2024-05-13T11:41:39.373900Z",
          "shell.execute_reply.started": "2024-05-13T11:41:39.367405Z",
          "shell.execute_reply": "2024-05-13T11:41:39.373308Z"
        },
        "trusted": true
      },
      "execution_count": null,
      "outputs": []
    },
    {
      "cell_type": "code",
      "source": [
        "def permutation_operator(M, p, q):\n",
        "    '''\n",
        "    Implements permutation operator of matrix M from the paper, i.e.\n",
        "    (i - 1)p + j row of M is set equal to vec(M(j, j))^T\n",
        "    '''\n",
        "    R = sp.vstack([vec(get_M(M, i, j, q), q, q).T for i in range(p) for j in range(p)])\n",
        "    return R\n",
        "\n",
        "# test permutation operator:\n",
        "C_ = sp.csr_matrix(C)\n",
        "C_perm = permutation_operator(C_, 3, 2)\n",
        "C_perm.A"
      ],
      "metadata": {
        "id": "Jn80sYUfuGG9",
        "outputId": "7e408e99-b96a-4f1a-df29-beefe607e6de",
        "execution": {
          "iopub.status.busy": "2024-05-13T11:41:39.374679Z",
          "iopub.execute_input": "2024-05-13T11:41:39.375150Z",
          "iopub.status.idle": "2024-05-13T11:41:39.398815Z",
          "shell.execute_reply.started": "2024-05-13T11:41:39.375114Z",
          "shell.execute_reply": "2024-05-13T11:41:39.397961Z"
        },
        "trusted": true,
        "colab": {
          "base_uri": "https://localhost:8080/"
        }
      },
      "execution_count": null,
      "outputs": [
        {
          "output_type": "execute_result",
          "data": {
            "text/plain": [
              "array([[ 1,  3,  2,  4],\n",
              "       [ 2,  6,  4,  8],\n",
              "       [ 3,  9,  6, 12],\n",
              "       [ 4, 12,  8, 16],\n",
              "       [ 5, 15, 10, 20],\n",
              "       [ 6, 18, 12, 24],\n",
              "       [ 7, 21, 14, 28],\n",
              "       [ 8, 24, 16, 32],\n",
              "       [ 9, 27, 18, 36]])"
            ]
          },
          "metadata": {},
          "execution_count": 9
        }
      ]
    },
    {
      "cell_type": "code",
      "source": [
        "def get_block(row, q):\n",
        "    return row.reshape((q, q)).T\n",
        "\n",
        "def inverse_permutation_operator(M, p, q):\n",
        "    '''\n",
        "    Implements inverse permutation operator for matrix M\n",
        "    '''\n",
        "    P = np.hstack([get_block(M[0 * p + j, :], q) for j in range(p)])\n",
        "    for i in range(1, p):\n",
        "        row_block = np.hstack([get_block(M[i * p + j, :], q) for j in range(p)])\n",
        "        P = np.vstack([P, row_block])\n",
        "    return P\n",
        "\n",
        "#test inverse_permutation_operator:\n",
        "C_ = inverse_permutation_operator(C_perm.A, 3, 2)\n",
        "C_"
      ],
      "metadata": {
        "id": "9iyHDh1rtkHi",
        "outputId": "8b9cdd6b-8038-428e-831b-a8afe38f951c",
        "execution": {
          "iopub.status.busy": "2024-05-13T11:41:39.403023Z",
          "iopub.execute_input": "2024-05-13T11:41:39.403344Z",
          "iopub.status.idle": "2024-05-13T11:41:39.412865Z",
          "shell.execute_reply.started": "2024-05-13T11:41:39.403322Z",
          "shell.execute_reply": "2024-05-13T11:41:39.412196Z"
        },
        "trusted": true,
        "colab": {
          "base_uri": "https://localhost:8080/"
        }
      },
      "execution_count": null,
      "outputs": [
        {
          "output_type": "execute_result",
          "data": {
            "text/plain": [
              "array([[ 1,  2,  2,  4,  3,  6],\n",
              "       [ 3,  4,  6,  8,  9, 12],\n",
              "       [ 4,  8,  5, 10,  6, 12],\n",
              "       [12, 16, 15, 20, 18, 24],\n",
              "       [ 7, 14,  8, 16,  9, 18],\n",
              "       [21, 28, 24, 32, 27, 36]])"
            ]
          },
          "metadata": {},
          "execution_count": 10
        }
      ]
    },
    {
      "cell_type": "code",
      "source": [
        "def max_(x, lambda_):\n",
        "    return max(0, x - lambda_ / 2)\n",
        "\n",
        "def find_solution(p, q, S, lambda_):\n",
        "    '''\n",
        "    Finds solution of the optimization problem (5) with the formula (7) for lambda = lambda_\n",
        "    '''\n",
        "    R_hat = permutation_operator(S, p, q)\n",
        "    solution = np.zeros((p**2, q**2))\n",
        "    k = max(1, min(p**2, q**2)-1)\n",
        "    u, s, vh = sp.linalg.svds(R_hat, k=k)\n",
        "    for i in range(k):\n",
        "        solution += (max_(s[i], lambda_) * u[:, i]).reshape(p**2, 1) @ vh[i, :].reshape(1, q**2)\n",
        "    return solution"
      ],
      "metadata": {
        "id": "pWjh8WJMQvAx"
      },
      "execution_count": 74,
      "outputs": []
    },
    {
      "cell_type": "code",
      "source": [
        "def get_all_divisors(n):\n",
        "    for i in range(1, int(n / 2) + 1):\n",
        "        if n % i == 0:\n",
        "            yield i\n",
        "    yield n\n",
        "\n",
        "\n",
        "def find_possible_pq(d):\n",
        "    divisors = list(get_all_divisors(d))\n",
        "    possible_pq = list()\n",
        "    for i in range(len(divisors) // 2):\n",
        "        possible_pq.append((divisors[i], divisors[-i - 1]))\n",
        "    return possible_pq"
      ],
      "metadata": {
        "id": "__DRoZE0tpSB",
        "execution": {
          "iopub.status.busy": "2024-05-13T11:41:39.414130Z",
          "iopub.execute_input": "2024-05-13T11:41:39.414744Z",
          "iopub.status.idle": "2024-05-13T11:41:39.421690Z",
          "shell.execute_reply.started": "2024-05-13T11:41:39.414713Z",
          "shell.execute_reply": "2024-05-13T11:41:39.420985Z"
        },
        "trusted": true
      },
      "execution_count": 73,
      "outputs": []
    },
    {
      "cell_type": "markdown",
      "source": [
        "# Data preparation"
      ],
      "metadata": {
        "id": "mMuU29_KlZvh"
      }
    },
    {
      "cell_type": "code",
      "source": [
        "data = get_movielens_data(include_time=True)\n",
        "data.head()"
      ],
      "metadata": {
        "id": "X9wE0iI_2sty",
        "outputId": "5774234d-2dec-43cb-d8b2-8044105e1f16",
        "execution": {
          "iopub.status.busy": "2024-05-13T11:41:39.422827Z",
          "iopub.execute_input": "2024-05-13T11:41:39.423152Z",
          "iopub.status.idle": "2024-05-13T11:41:41.411742Z",
          "shell.execute_reply.started": "2024-05-13T11:41:39.423124Z",
          "shell.execute_reply": "2024-05-13T11:41:41.410562Z"
        },
        "trusted": true,
        "colab": {
          "base_uri": "https://localhost:8080/"
        }
      },
      "execution_count": null,
      "outputs": [
        {
          "output_type": "execute_result",
          "data": {
            "text/plain": [
              "   userid  movieid  rating  timestamp\n",
              "0       1     1193       5  978300760\n",
              "1       1      661       3  978302109\n",
              "2       1      914       3  978301968\n",
              "3       1     3408       4  978300275\n",
              "4       1     2355       5  978824291"
            ],
            "text/html": [
              "\n",
              "  <div id=\"df-1a324562-3455-47c5-9e22-6f74cba2f546\" class=\"colab-df-container\">\n",
              "    <div>\n",
              "<style scoped>\n",
              "    .dataframe tbody tr th:only-of-type {\n",
              "        vertical-align: middle;\n",
              "    }\n",
              "\n",
              "    .dataframe tbody tr th {\n",
              "        vertical-align: top;\n",
              "    }\n",
              "\n",
              "    .dataframe thead th {\n",
              "        text-align: right;\n",
              "    }\n",
              "</style>\n",
              "<table border=\"1\" class=\"dataframe\">\n",
              "  <thead>\n",
              "    <tr style=\"text-align: right;\">\n",
              "      <th></th>\n",
              "      <th>userid</th>\n",
              "      <th>movieid</th>\n",
              "      <th>rating</th>\n",
              "      <th>timestamp</th>\n",
              "    </tr>\n",
              "  </thead>\n",
              "  <tbody>\n",
              "    <tr>\n",
              "      <th>0</th>\n",
              "      <td>1</td>\n",
              "      <td>1193</td>\n",
              "      <td>5</td>\n",
              "      <td>978300760</td>\n",
              "    </tr>\n",
              "    <tr>\n",
              "      <th>1</th>\n",
              "      <td>1</td>\n",
              "      <td>661</td>\n",
              "      <td>3</td>\n",
              "      <td>978302109</td>\n",
              "    </tr>\n",
              "    <tr>\n",
              "      <th>2</th>\n",
              "      <td>1</td>\n",
              "      <td>914</td>\n",
              "      <td>3</td>\n",
              "      <td>978301968</td>\n",
              "    </tr>\n",
              "    <tr>\n",
              "      <th>3</th>\n",
              "      <td>1</td>\n",
              "      <td>3408</td>\n",
              "      <td>4</td>\n",
              "      <td>978300275</td>\n",
              "    </tr>\n",
              "    <tr>\n",
              "      <th>4</th>\n",
              "      <td>1</td>\n",
              "      <td>2355</td>\n",
              "      <td>5</td>\n",
              "      <td>978824291</td>\n",
              "    </tr>\n",
              "  </tbody>\n",
              "</table>\n",
              "</div>\n",
              "    <div class=\"colab-df-buttons\">\n",
              "\n",
              "  <div class=\"colab-df-container\">\n",
              "    <button class=\"colab-df-convert\" onclick=\"convertToInteractive('df-1a324562-3455-47c5-9e22-6f74cba2f546')\"\n",
              "            title=\"Convert this dataframe to an interactive table.\"\n",
              "            style=\"display:none;\">\n",
              "\n",
              "  <svg xmlns=\"http://www.w3.org/2000/svg\" height=\"24px\" viewBox=\"0 -960 960 960\">\n",
              "    <path d=\"M120-120v-720h720v720H120Zm60-500h600v-160H180v160Zm220 220h160v-160H400v160Zm0 220h160v-160H400v160ZM180-400h160v-160H180v160Zm440 0h160v-160H620v160ZM180-180h160v-160H180v160Zm440 0h160v-160H620v160Z\"/>\n",
              "  </svg>\n",
              "    </button>\n",
              "\n",
              "  <style>\n",
              "    .colab-df-container {\n",
              "      display:flex;\n",
              "      gap: 12px;\n",
              "    }\n",
              "\n",
              "    .colab-df-convert {\n",
              "      background-color: #E8F0FE;\n",
              "      border: none;\n",
              "      border-radius: 50%;\n",
              "      cursor: pointer;\n",
              "      display: none;\n",
              "      fill: #1967D2;\n",
              "      height: 32px;\n",
              "      padding: 0 0 0 0;\n",
              "      width: 32px;\n",
              "    }\n",
              "\n",
              "    .colab-df-convert:hover {\n",
              "      background-color: #E2EBFA;\n",
              "      box-shadow: 0px 1px 2px rgba(60, 64, 67, 0.3), 0px 1px 3px 1px rgba(60, 64, 67, 0.15);\n",
              "      fill: #174EA6;\n",
              "    }\n",
              "\n",
              "    .colab-df-buttons div {\n",
              "      margin-bottom: 4px;\n",
              "    }\n",
              "\n",
              "    [theme=dark] .colab-df-convert {\n",
              "      background-color: #3B4455;\n",
              "      fill: #D2E3FC;\n",
              "    }\n",
              "\n",
              "    [theme=dark] .colab-df-convert:hover {\n",
              "      background-color: #434B5C;\n",
              "      box-shadow: 0px 1px 3px 1px rgba(0, 0, 0, 0.15);\n",
              "      filter: drop-shadow(0px 1px 2px rgba(0, 0, 0, 0.3));\n",
              "      fill: #FFFFFF;\n",
              "    }\n",
              "  </style>\n",
              "\n",
              "    <script>\n",
              "      const buttonEl =\n",
              "        document.querySelector('#df-1a324562-3455-47c5-9e22-6f74cba2f546 button.colab-df-convert');\n",
              "      buttonEl.style.display =\n",
              "        google.colab.kernel.accessAllowed ? 'block' : 'none';\n",
              "\n",
              "      async function convertToInteractive(key) {\n",
              "        const element = document.querySelector('#df-1a324562-3455-47c5-9e22-6f74cba2f546');\n",
              "        const dataTable =\n",
              "          await google.colab.kernel.invokeFunction('convertToInteractive',\n",
              "                                                    [key], {});\n",
              "        if (!dataTable) return;\n",
              "\n",
              "        const docLinkHtml = 'Like what you see? Visit the ' +\n",
              "          '<a target=\"_blank\" href=https://colab.research.google.com/notebooks/data_table.ipynb>data table notebook</a>'\n",
              "          + ' to learn more about interactive tables.';\n",
              "        element.innerHTML = '';\n",
              "        dataTable['output_type'] = 'display_data';\n",
              "        await google.colab.output.renderOutput(dataTable, element);\n",
              "        const docLink = document.createElement('div');\n",
              "        docLink.innerHTML = docLinkHtml;\n",
              "        element.appendChild(docLink);\n",
              "      }\n",
              "    </script>\n",
              "  </div>\n",
              "\n",
              "\n",
              "<div id=\"df-3646cfd5-6144-40fe-84a0-ea076f0df47f\">\n",
              "  <button class=\"colab-df-quickchart\" onclick=\"quickchart('df-3646cfd5-6144-40fe-84a0-ea076f0df47f')\"\n",
              "            title=\"Suggest charts\"\n",
              "            style=\"display:none;\">\n",
              "\n",
              "<svg xmlns=\"http://www.w3.org/2000/svg\" height=\"24px\"viewBox=\"0 0 24 24\"\n",
              "     width=\"24px\">\n",
              "    <g>\n",
              "        <path d=\"M19 3H5c-1.1 0-2 .9-2 2v14c0 1.1.9 2 2 2h14c1.1 0 2-.9 2-2V5c0-1.1-.9-2-2-2zM9 17H7v-7h2v7zm4 0h-2V7h2v10zm4 0h-2v-4h2v4z\"/>\n",
              "    </g>\n",
              "</svg>\n",
              "  </button>\n",
              "\n",
              "<style>\n",
              "  .colab-df-quickchart {\n",
              "      --bg-color: #E8F0FE;\n",
              "      --fill-color: #1967D2;\n",
              "      --hover-bg-color: #E2EBFA;\n",
              "      --hover-fill-color: #174EA6;\n",
              "      --disabled-fill-color: #AAA;\n",
              "      --disabled-bg-color: #DDD;\n",
              "  }\n",
              "\n",
              "  [theme=dark] .colab-df-quickchart {\n",
              "      --bg-color: #3B4455;\n",
              "      --fill-color: #D2E3FC;\n",
              "      --hover-bg-color: #434B5C;\n",
              "      --hover-fill-color: #FFFFFF;\n",
              "      --disabled-bg-color: #3B4455;\n",
              "      --disabled-fill-color: #666;\n",
              "  }\n",
              "\n",
              "  .colab-df-quickchart {\n",
              "    background-color: var(--bg-color);\n",
              "    border: none;\n",
              "    border-radius: 50%;\n",
              "    cursor: pointer;\n",
              "    display: none;\n",
              "    fill: var(--fill-color);\n",
              "    height: 32px;\n",
              "    padding: 0;\n",
              "    width: 32px;\n",
              "  }\n",
              "\n",
              "  .colab-df-quickchart:hover {\n",
              "    background-color: var(--hover-bg-color);\n",
              "    box-shadow: 0 1px 2px rgba(60, 64, 67, 0.3), 0 1px 3px 1px rgba(60, 64, 67, 0.15);\n",
              "    fill: var(--button-hover-fill-color);\n",
              "  }\n",
              "\n",
              "  .colab-df-quickchart-complete:disabled,\n",
              "  .colab-df-quickchart-complete:disabled:hover {\n",
              "    background-color: var(--disabled-bg-color);\n",
              "    fill: var(--disabled-fill-color);\n",
              "    box-shadow: none;\n",
              "  }\n",
              "\n",
              "  .colab-df-spinner {\n",
              "    border: 2px solid var(--fill-color);\n",
              "    border-color: transparent;\n",
              "    border-bottom-color: var(--fill-color);\n",
              "    animation:\n",
              "      spin 1s steps(1) infinite;\n",
              "  }\n",
              "\n",
              "  @keyframes spin {\n",
              "    0% {\n",
              "      border-color: transparent;\n",
              "      border-bottom-color: var(--fill-color);\n",
              "      border-left-color: var(--fill-color);\n",
              "    }\n",
              "    20% {\n",
              "      border-color: transparent;\n",
              "      border-left-color: var(--fill-color);\n",
              "      border-top-color: var(--fill-color);\n",
              "    }\n",
              "    30% {\n",
              "      border-color: transparent;\n",
              "      border-left-color: var(--fill-color);\n",
              "      border-top-color: var(--fill-color);\n",
              "      border-right-color: var(--fill-color);\n",
              "    }\n",
              "    40% {\n",
              "      border-color: transparent;\n",
              "      border-right-color: var(--fill-color);\n",
              "      border-top-color: var(--fill-color);\n",
              "    }\n",
              "    60% {\n",
              "      border-color: transparent;\n",
              "      border-right-color: var(--fill-color);\n",
              "    }\n",
              "    80% {\n",
              "      border-color: transparent;\n",
              "      border-right-color: var(--fill-color);\n",
              "      border-bottom-color: var(--fill-color);\n",
              "    }\n",
              "    90% {\n",
              "      border-color: transparent;\n",
              "      border-bottom-color: var(--fill-color);\n",
              "    }\n",
              "  }\n",
              "</style>\n",
              "\n",
              "  <script>\n",
              "    async function quickchart(key) {\n",
              "      const quickchartButtonEl =\n",
              "        document.querySelector('#' + key + ' button');\n",
              "      quickchartButtonEl.disabled = true;  // To prevent multiple clicks.\n",
              "      quickchartButtonEl.classList.add('colab-df-spinner');\n",
              "      try {\n",
              "        const charts = await google.colab.kernel.invokeFunction(\n",
              "            'suggestCharts', [key], {});\n",
              "      } catch (error) {\n",
              "        console.error('Error during call to suggestCharts:', error);\n",
              "      }\n",
              "      quickchartButtonEl.classList.remove('colab-df-spinner');\n",
              "      quickchartButtonEl.classList.add('colab-df-quickchart-complete');\n",
              "    }\n",
              "    (() => {\n",
              "      let quickchartButtonEl =\n",
              "        document.querySelector('#df-3646cfd5-6144-40fe-84a0-ea076f0df47f button');\n",
              "      quickchartButtonEl.style.display =\n",
              "        google.colab.kernel.accessAllowed ? 'block' : 'none';\n",
              "    })();\n",
              "  </script>\n",
              "</div>\n",
              "    </div>\n",
              "  </div>\n"
            ],
            "application/vnd.google.colaboratory.intrinsic+json": {
              "type": "dataframe",
              "variable_name": "data"
            }
          },
          "metadata": {},
          "execution_count": 12
        }
      ]
    },
    {
      "cell_type": "code",
      "source": [
        "#outlayers extraction:\n",
        "data = data[data.userid != 46] #45\n",
        "data = data[data.userid != 1812]\n",
        "data = data[data.userid != 1]\n",
        "data = data[data.userid != 1]"
      ],
      "metadata": {
        "id": "MDR0bp0Id0oH",
        "execution": {
          "iopub.status.busy": "2024-05-13T11:41:41.412908Z",
          "iopub.execute_input": "2024-05-13T11:41:41.413167Z",
          "iopub.status.idle": "2024-05-13T11:41:41.494442Z",
          "shell.execute_reply.started": "2024-05-13T11:41:41.413144Z",
          "shell.execute_reply": "2024-05-13T11:41:41.493630Z"
        },
        "trusted": true
      },
      "execution_count": null,
      "outputs": []
    },
    {
      "cell_type": "code",
      "source": [
        "training_, holdout_ = leave_last_out(data, 'userid', 'timestamp')\n",
        "verify_time_split(training_, holdout_)"
      ],
      "metadata": {
        "id": "S7VOHFsn423h",
        "execution": {
          "iopub.status.busy": "2024-05-13T11:41:41.495579Z",
          "iopub.execute_input": "2024-05-13T11:41:41.495922Z",
          "iopub.status.idle": "2024-05-13T11:41:41.792386Z",
          "shell.execute_reply.started": "2024-05-13T11:41:41.495892Z",
          "shell.execute_reply": "2024-05-13T11:41:41.791583Z"
        },
        "trusted": true
      },
      "execution_count": null,
      "outputs": []
    },
    {
      "cell_type": "code",
      "source": [
        "training, data_index = transform_indices(training_, 'userid', 'movieid')\n",
        "holdout = reindex_data(holdout_, data_index, filter_invalid=True).sort_values('userid')"
      ],
      "metadata": {
        "id": "4CF5rOXDMaoz",
        "execution": {
          "iopub.status.busy": "2024-05-13T11:41:41.794405Z",
          "iopub.execute_input": "2024-05-13T11:41:41.794753Z",
          "iopub.status.idle": "2024-05-13T11:41:41.836421Z",
          "shell.execute_reply.started": "2024-05-13T11:41:41.794718Z",
          "shell.execute_reply": "2024-05-13T11:41:41.835361Z"
        },
        "trusted": true
      },
      "execution_count": null,
      "outputs": []
    },
    {
      "cell_type": "code",
      "source": [
        "data_description = dict(\n",
        "    users = data_index['users'].name,\n",
        "    items = data_index['items'].name,\n",
        "    feedback = 'rating',\n",
        "    n_users = len(data_index['users']),\n",
        "    n_items = len(data_index['items']),\n",
        "    test_users = holdout[data_index['users'].name].values\n",
        ")"
      ],
      "metadata": {
        "id": "iJ_kZbnNtXk2",
        "execution": {
          "iopub.status.busy": "2024-05-13T11:41:41.837821Z",
          "iopub.execute_input": "2024-05-13T11:41:41.838156Z",
          "iopub.status.idle": "2024-05-13T11:41:41.843791Z",
          "shell.execute_reply.started": "2024-05-13T11:41:41.838130Z",
          "shell.execute_reply": "2024-05-13T11:41:41.842755Z"
        },
        "trusted": true
      },
      "execution_count": null,
      "outputs": []
    },
    {
      "cell_type": "code",
      "source": [
        "userid = data_description['users']\n",
        "seen_idx_mask = training[userid].isin(data_description['test_users'])\n",
        "testset = training[seen_idx_mask]"
      ],
      "metadata": {
        "id": "dPJyFP8yJtTc",
        "execution": {
          "iopub.status.busy": "2024-05-13T11:41:41.845485Z",
          "iopub.execute_input": "2024-05-13T11:41:41.846111Z",
          "iopub.status.idle": "2024-05-13T11:41:41.872580Z",
          "shell.execute_reply.started": "2024-05-13T11:41:41.846042Z",
          "shell.execute_reply": "2024-05-13T11:41:41.871727Z"
        },
        "trusted": true
      },
      "execution_count": null,
      "outputs": []
    },
    {
      "cell_type": "markdown",
      "source": [
        "# Model evaluation"
      ],
      "metadata": {
        "id": "6gO7QhHFW6v3"
      }
    },
    {
      "cell_type": "markdown",
      "source": [
        "## PureSVD"
      ],
      "metadata": {
        "id": "LLnbcVyk82j9"
      }
    },
    {
      "cell_type": "code",
      "source": [
        "def build_svd_model(config, data, data_description):\n",
        "    source_matrix = generate_interactions_matrix(data, data_description, rebase_users=False)\n",
        "    _, s, vt = svds(\n",
        "        source_matrix.astype('f8'),\n",
        "        k=config['rank'],\n",
        "        return_singular_vectors='vh'\n",
        "    )\n",
        "    sidx = np.argsort(-s)\n",
        "    singular_values = s[sidx]\n",
        "    item_factors = np.ascontiguousarray(vt[sidx, :].T)\n",
        "    return item_factors, singular_values"
      ],
      "metadata": {
        "id": "IBWQzB-N85h_"
      },
      "execution_count": null,
      "outputs": []
    },
    {
      "cell_type": "code",
      "source": [
        "def svd_model_scoring(params, data, data_description):\n",
        "    item_factors, sigma = params\n",
        "    test_matrix = generate_interactions_matrix(data, data_description, rebase_users=True)\n",
        "    scores = test_matrix.dot(item_factors) @ item_factors.T\n",
        "    return scores"
      ],
      "metadata": {
        "id": "YfMqapgl87os"
      },
      "execution_count": null,
      "outputs": []
    },
    {
      "cell_type": "code",
      "source": [
        "V, sigma = svd_params = build_svd_model({'rank': 200}, training, data_description)\n",
        "svd_scores = svd_model_scoring(svd_params, testset, data_description)\n",
        "\n",
        "downvote_seen_items(svd_scores, testset, data_description)\n",
        "svd_recs = topn_recommendations(svd_scores, topn=10)\n",
        "\n",
        "hr, mrr, coverage = model_evaluate(svd_recs, holdout, data_description)\n",
        "print(f\"hit rate = {hr}, mrr = {mrr}, cov = {coverage}\")"
      ],
      "metadata": {
        "colab": {
          "base_uri": "https://localhost:8080/"
        },
        "id": "0aJdMY9-9A9n",
        "outputId": "bd0105fe-a33f-4195-a2f2-c9b2dcca4cc9"
      },
      "execution_count": null,
      "outputs": [
        {
          "output_type": "stream",
          "name": "stdout",
          "text": [
            "hit rate = 0.0828225940036442, mrr = 0.028933613089650857, cov = 0.37688984881209503\n"
          ]
        }
      ]
    },
    {
      "cell_type": "markdown",
      "source": [
        "## PRLS"
      ],
      "metadata": {
        "id": "td5p8Lz9J2yL"
      }
    },
    {
      "cell_type": "code",
      "source": [
        "A = generate_interactions_matrix(training, data_description, rebase_users=True)\n",
        "\n",
        "n_items = 3704 # count of items\n",
        "n_users = 6040 - 3 # count of users\n",
        "possible_pq = find_possible_pq(n_users + n_items)\n",
        "possible_pq"
      ],
      "metadata": {
        "id": "oSCWMUD6dyOa",
        "execution": {
          "iopub.status.busy": "2024-05-13T11:41:41.873591Z",
          "iopub.execute_input": "2024-05-13T11:41:41.873844Z",
          "iopub.status.idle": "2024-05-13T11:41:41.947171Z",
          "shell.execute_reply.started": "2024-05-13T11:41:41.873822Z",
          "shell.execute_reply": "2024-05-13T11:41:41.946118Z"
        },
        "trusted": true,
        "colab": {
          "base_uri": "https://localhost:8080/"
        },
        "outputId": "c13fd8a7-e71f-42dd-d203-a9a62e8dcc15"
      },
      "execution_count": 77,
      "outputs": [
        {
          "output_type": "execute_result",
          "data": {
            "text/plain": [
              "[(1, 9741), (3, 3247), (17, 573), (51, 191)]"
            ]
          },
          "metadata": {},
          "execution_count": 77
        }
      ]
    },
    {
      "cell_type": "code",
      "source": [
        "lambda_ = 5\n",
        "p, q = possible_pq[-1]\n",
        "\n",
        "S1 = sp.hstack([np.zeros((n_items, n_items)), A.T])\n",
        "S2 = sp.hstack([A, np.zeros((n_users, n_users))])\n",
        "S = sp.csr_matrix(sp.vstack([S1, S2]))\n",
        "\n",
        "solution_test = find_solution(p, q, S, lambda_)\n",
        "sigma_hat_lambda_test = inverse_permutation_operator(solution_test, p, q)\n",
        "\n",
        "our_scores = sigma_hat_lambda_test[n_items:, :n_items]\n",
        "downvote_seen_items(our_scores, testset, data_description)\n",
        "\n",
        "recoms = topn_recommendations(our_scores)\n",
        "\n",
        "hr, mrr, coverage = model_evaluate(recoms, holdout, data_description)\n",
        "print(f\"d = {d}\")\n",
        "print(f\"p = {p}, q = {q} \\nhit rate = {hr}, mrr = {mrr}, cov = {coverage}\")\n"
      ],
      "metadata": {
        "colab": {
          "base_uri": "https://localhost:8080/"
        },
        "id": "P_T-yaGWQgAi",
        "outputId": "24f7a6b3-bfad-441d-ffee-20a3cc6e2126"
      },
      "execution_count": 78,
      "outputs": [
        {
          "output_type": "stream",
          "name": "stdout",
          "text": [
            "d = -1.0\n",
            "p = 51, q = 191 \n",
            "hit rate = 0.03876097399370548, mrr = 0.013819738596117593, cov = 0.18412526997840173\n"
          ]
        }
      ]
    },
    {
      "cell_type": "markdown",
      "source": [
        "## Regularized PRLS"
      ],
      "metadata": {
        "id": "ZCnL-Nb257Tq"
      }
    },
    {
      "cell_type": "code",
      "source": [
        "A_hat_tests = []\n",
        "recoms_tests = []\n",
        "hrs = []\n",
        "mrrs = []\n",
        "covs = []\n",
        "ds = np.linspace(-1, 1, 20)\n",
        "lambda_ = 100\n",
        "p, q = possible_pq[-1]\n",
        "for d in ds:\n",
        "    A_coefs = []\n",
        "    for i in range(A.shape[1]):\n",
        "        A_coefs.append(euclidean(A[:, i].A[:, 0], np.zeros(A.shape[0]))**(d - 1))\n",
        "    A_coefs = np.array(A_coefs)\n",
        "    A_reg = sp.csr_matrix(A @ np.diag(A_coefs))\n",
        "    assert A.shape == A_reg.shape\n",
        "\n",
        "    S1 = sp.hstack([np.zeros((n_items, n_items)), A_reg.T])\n",
        "    S2 = sp.hstack([A_reg, np.zeros((n_users, n_users))])\n",
        "    S = sp.csr_matrix(sp.vstack([S1, S2]))\n",
        "    solution_test = find_solution(p, q, S, lambda_)\n",
        "    sigma_hat_lambda_test = inverse_permutation_operator(solution_test, p, q)\n",
        "    our_scores = sigma_hat_lambda_test[n_items:, :n_items]\n",
        "    downvote_seen_items(our_scores, testset, data_description)\n",
        "    A_hat_tests.append(our_scores)\n",
        "\n",
        "    recoms = topn_recommendations(our_scores)\n",
        "    recoms_tests.append(recoms)\n",
        "\n",
        "    hr, mrr, coverage = model_evaluate(recoms, holdout, data_description)\n",
        "    print(f\"d = {d}\")\n",
        "    print(f\"p = {p}, q = {q} \\nhit rate = {hr}, mrr = {mrr}, cov = {coverage}\")\n",
        "    hrs.append(hr)\n",
        "    mrrs.append(mrr)\n",
        "    covs.append(coverage)"
      ],
      "metadata": {
        "id": "CUD9v59ILglN"
      },
      "execution_count": null,
      "outputs": []
    },
    {
      "cell_type": "code",
      "source": [
        "#these metrics were observed during the experiments:\n",
        "hrs = [0.0046380, 0.0046380, 0.00463806, 0.0046380, 0.0036441941,\n",
        "       0.004141129, 0.0048037, 0.0046380, 0.0044724200, 0.00530064,\n",
        "       0.008116614212357131, 0.011098227596488323, 0.016233228424714263, 0.023190326321020374, 0.028490972337253603,\n",
        "       0.03213516647341395, 0.03461984429352327, 0.03611065098558887, 0.037435812489647176, 0.03876097399370548]\n",
        "mrrs = [0.001115,  0.0011157, 0.00111573, 0.0011157, 0.000752239,\n",
        "        0.000892117, 0.0013070194, 0.0011230349, 0.00122130, 0.0013224664831423154,\n",
        "        0.0017020700389923514, 0.003329665475598886, 0.0052924294890503275, 0.008404915718150769, 0.01042296052648877,\n",
        "        0.011833639645466713, 0.012808448430446111, 0.013156237593043954, 0.013661981274205887, 0.013819738596117593]\n",
        "covs = [0.2127429,0.21274298, 0.2127429, 0.212742980, 0.846922246,\n",
        "        0.758099352, 0.81182505, 0.96031317494, 0.9959503, 0.9989200863930886,\n",
        "        0.9983801295896328, 0.9913606911447084, 0.9643628509719222, 0.8628509719222462, 0.6749460043196545,\n",
        "        0.492170626349892, 0.3617710583153348, 0.28077753779697623, 0.226511879049676, 0.18412526997840173]\n",
        "\n",
        "f, axs = plt.subplots(2, figsize=(5, 5.8))\n",
        "axs[0].plot(ds, hrs, label=\"HR@10\")\n",
        "axs[0].plot(ds, mrrs, label=\"MRR@10\")\n",
        "axs[0].set_ylabel(\"metrics value\")\n",
        "axs[0].legend()\n",
        "\n",
        "axs[1].plot(ds, covs, label=\"COV@10\", c='g')\n",
        "axs[1].set_xlabel(\"ds\")\n",
        "axs[1].set_ylabel(\"metrics value\")\n",
        "axs[1].legend()\n",
        "\n",
        "axs[0].set_title(\"Dependence of HR, MRR and COV on d\")\n",
        "plt.show()\n"
      ],
      "metadata": {
        "execution": {
          "iopub.status.busy": "2024-05-13T11:41:45.041304Z",
          "iopub.execute_input": "2024-05-13T11:41:45.041576Z",
          "iopub.status.idle": "2024-05-13T11:41:45.053423Z",
          "shell.execute_reply.started": "2024-05-13T11:41:45.041555Z",
          "shell.execute_reply": "2024-05-13T11:41:45.052834Z"
        },
        "trusted": true,
        "id": "jfc2lrUV57Ts",
        "colab": {
          "base_uri": "https://localhost:8080/",
          "height": 549
        },
        "outputId": "51cfcaf9-1ae1-4252-d23d-8d4a479ec461"
      },
      "execution_count": 71,
      "outputs": [
        {
          "output_type": "display_data",
          "data": {
            "text/plain": [
              "<Figure size 500x580 with 2 Axes>"
            ],
            "image/png": "[encoded data removed]"
          },
          "metadata": {}
        }
      ]
    },
    {
      "cell_type": "markdown",
      "source": [
        "## Searching of nuclear penalization coefficient lambda"
      ],
      "metadata": {
        "id": "QvOhzSWh57Tl"
      }
    },
    {
      "cell_type": "code",
      "source": [
        "lambdas_ = [0, 0.1, 0.2, 0.3, 0.5, 1, 3, 10, 30, 40, 50, 60, 70, 100, 200, 300]\n",
        "d = 0.85\n",
        "p, q = possible_pq[-1]\n",
        "A_hat_tests = []\n",
        "recoms_tests = []\n",
        "hrs = []\n",
        "mrrs = []\n",
        "covs = []\n",
        "for lambda_ in lambdas_:\n",
        "    A_coefs = []\n",
        "    for i in range(A.shape[1]):\n",
        "        A_coefs.append(euclidean(A[:, i].A[:, 0], np.zeros(A.shape[0]))**(d - 1))\n",
        "    A_coefs = np.array(A_coefs)\n",
        "    A_reg = sp.csr_matrix(A @ np.diag(A_coefs))\n",
        "    assert A.shape == A_reg.shape\n",
        "\n",
        "    S1 = sp.hstack([np.zeros((n_items, n_items)), A_reg.T])\n",
        "    S2 = sp.hstack([A_reg, np.zeros((n_users, n_users))])\n",
        "    S = sp.csr_matrix(sp.vstack([S1, S2]))\n",
        "\n",
        "    solution_test = find_solution(p, q, S, lambda_)\n",
        "    sigma_hat_lambda_test = inverse_permutation_operator(solution_test, p, q)\n",
        "    our_scores = sigma_hat_lambda_test[n_items:, :n_items]\n",
        "    downvote_seen_items(our_scores, testset, data_description)\n",
        "    A_hat_tests.append(our_scores)\n",
        "\n",
        "    recoms = topn_recommendations(our_scores)\n",
        "    recoms_tests.append(recoms)\n",
        "\n",
        "    hr, mrr, coverage = model_evaluate(recoms, holdout, data_description)\n",
        "    print(f\"lambda = {lambda_}\")\n",
        "    print(f\"p = {p}, q = {q} \\nhit rate = {hr}, mrr = {mrr}, cov = {coverage}\")\n",
        "    hrs.append(hr)\n",
        "    mrrs.append(mrr)\n",
        "    covs.append(coverage)"
      ],
      "metadata": {
        "execution": {
          "iopub.status.busy": "2024-05-13T11:41:44.969567Z",
          "iopub.execute_input": "2024-05-13T11:41:44.970228Z",
          "iopub.status.idle": "2024-05-13T11:41:44.983185Z",
          "shell.execute_reply.started": "2024-05-13T11:41:44.970175Z",
          "shell.execute_reply": "2024-05-13T11:41:44.982494Z"
        },
        "trusted": true,
        "id": "QcejeYga57Tn"
      },
      "execution_count": null,
      "outputs": []
    },
    {
      "cell_type": "code",
      "source": [
        "A_coefs = []\n",
        "lambdas_ = [0, 0.1, 0.2, 0.3, 0.5, 1, 3, 10, 30, 40, 50, 60, 70, 100, 200, 300]\n",
        "d = 0.85\n",
        "p, q = possible_pq[-1]\n",
        "for i in range(A.shape[1]):\n",
        "    A_coefs.append(euclidean(A[:, i].A[:, 0], np.zeros(A.shape[0]))**(d - 1))\n",
        "A_coefs = np.array(A_coefs)\n",
        "A_reg = sp.csr_matrix(A @ np.diag(A_coefs))\n",
        "assert A.shape == A_reg.shape\n",
        "\n",
        "S1 = sp.hstack([np.zeros((n_items, n_items)), A_reg.T])\n",
        "S2 = sp.hstack([A_reg, np.zeros((n_users, n_users))])\n",
        "S = sp.csr_matrix(sp.vstack([S1, S2]))\n",
        "R_hat = permutation_operator(S, p, q)\n",
        "k = max(1, min(p**2, q**2)-1)\n",
        "u, s, vh = sp.linalg.svds(R_hat, k=k)"
      ],
      "metadata": {
        "id": "F4nHFALT-eIP"
      },
      "execution_count": null,
      "outputs": []
    },
    {
      "cell_type": "code",
      "source": [
        "lens = []\n",
        "last_mins = []\n",
        "for l in lambdas_:\n",
        "    lens.append(len(s[s <= l / 2]) / len(s))\n",
        "    last_mins.append(s[s > l / 2].min())"
      ],
      "metadata": {
        "execution": {
          "iopub.status.busy": "2024-05-13T11:41:44.984084Z",
          "iopub.execute_input": "2024-05-13T11:41:44.984446Z",
          "iopub.status.idle": "2024-05-13T11:41:44.993507Z",
          "shell.execute_reply.started": "2024-05-13T11:41:44.984421Z",
          "shell.execute_reply": "2024-05-13T11:41:44.992821Z"
        },
        "trusted": true,
        "id": "jnUJrTQx57Tn"
      },
      "execution_count": null,
      "outputs": []
    },
    {
      "cell_type": "code",
      "source": [
        "plt.plot(lambdas_, lens)\n",
        "plt.title(\"Dependence of truncated singular values proportion on lambda\")\n",
        "plt.xlabel(\"lambda\")\n",
        "plt.ylabel(\"proportion of truncated singular values\")\n",
        "plt.show()"
      ],
      "metadata": {
        "execution": {
          "iopub.status.busy": "2024-05-13T11:41:44.994469Z",
          "iopub.execute_input": "2024-05-13T11:41:44.994781Z",
          "iopub.status.idle": "2024-05-13T11:41:45.006054Z",
          "shell.execute_reply.started": "2024-05-13T11:41:44.994757Z",
          "shell.execute_reply": "2024-05-13T11:41:45.005393Z"
        },
        "trusted": true,
        "colab": {
          "base_uri": "https://localhost:8080/",
          "height": 472
        },
        "id": "4lUjB5s457To",
        "outputId": "f17194f8-6493-4e40-aa01-ed684565c470"
      },
      "execution_count": null,
      "outputs": [
        {
          "output_type": "display_data",
          "data": {
            "text/plain": [
              "<Figure size 640x480 with 1 Axes>"
            ],
            "image/png": "[encoded data removed]"
          },
          "metadata": {}
        }
      ]
    },
    {
      "cell_type": "code",
      "source": [
        "plt.plot(lambdas_, last_mins)\n",
        "plt.title(\"Dependence of minimum remaining singular value on lambda\")\n",
        "plt.xlabel(\"lambda\")\n",
        "plt.ylabel(\"minimum remaining singular value\")\n",
        "plt.show()"
      ],
      "metadata": {
        "execution": {
          "iopub.status.busy": "2024-05-13T11:41:45.007193Z",
          "iopub.execute_input": "2024-05-13T11:41:45.007505Z",
          "iopub.status.idle": "2024-05-13T11:41:45.016093Z",
          "shell.execute_reply.started": "2024-05-13T11:41:45.007481Z",
          "shell.execute_reply": "2024-05-13T11:41:45.015340Z"
        },
        "trusted": true,
        "colab": {
          "base_uri": "https://localhost:8080/",
          "height": 472
        },
        "id": "p29eyKts57Tp",
        "outputId": "74f5e0c0-6382-418a-d5f1-f1951dfd3332"
      },
      "execution_count": null,
      "outputs": [
        {
          "output_type": "display_data",
          "data": {
            "text/plain": [
              "<Figure size 640x480 with 1 Axes>"
            ],
            "image/png": "[encoded data removed]"
          },
          "metadata": {}
        }
      ]
    },
    {
      "cell_type": "code",
      "source": [
        "#lambdas_ = [0, 0.1, 0.2, 0.3, 0.5, 1, 3, 10, 30, 40, 50, 60, 70, 100, 200, 300]\n",
        "#from the experiments the next metrics were calculated:\n",
        "hrs = [0.00447, 0.035945, 0.035945, 0.035945, 0.035945, 0.035945, 0.035945, 0.035945, 0.0352824, 0.0351167798, 0.034911, 0.034857, 0.035116, 0.0364419, 0.025509, 0.01557]\n",
        "mrrs = [0.00153, 0.01325, 0.01325, 0.01325, 0.01325, 0.01325, 0.01325, 0.01325, 0.01210406, 0.01207993, 0.0119753, 0.01186, 0.01171, 0.012254, 0.00766, 0.005353]\n",
        "covs = [0.91766, 0.274298, 0.274298, 0.274298, 0.274298, 0.274298, 0.274298, 0.274298, 0.274298, 0.274298, 0.27451, 0.27448, 0.271058, 0.25162, 0.072894, 0.0539956]\n",
        "\n",
        "f, axs = plt.subplots(2, figsize=(5, 5.8))\n",
        "\n",
        "axs[0].plot(lambdas_[1:], hrs[1:], label=\"HR@10\")\n",
        "axs[0].plot(lambdas_[1:], mrrs[1:], label=\"MRR@10\")\n",
        "# axs[0].set_xlabel(\"ks\")\n",
        "axs[0].set_ylabel(\"metrics value\")\n",
        "axs[0].legend()\n",
        "\n",
        "axs[1].plot(lambdas_[1:], covs[1:], label=\"COV@10\", c='g')\n",
        "axs[1].set_xlabel(\"lambda\")\n",
        "axs[1].set_ylabel(\"metrics value\")\n",
        "axs[1].legend()\n",
        "\n",
        "axs[0].set_title(\"Dependence of HR, MRR and COV on lambda\")\n",
        "plt.show()\n",
        "\n",
        "# plt.plot(lambdas_[1:], hrs[1:], label=\"HR@10\")\n",
        "# plt.plot(lambdas_[1:], mrrs[1:], label=\"MRR@10\")\n",
        "# plt.plot(lambdas_[1:], covs[1:], label=\"COV@10\")\n",
        "# plt.legend()\n",
        "# plt.xlabel(\"lambda\")\n",
        "# plt.ylabel(\"metrics value\")\n",
        "# plt.title(\"Dependence of HR, MRR and COV on lambda\")\n",
        "# plt.show()"
      ],
      "metadata": {
        "execution": {
          "iopub.status.busy": "2024-05-13T11:41:45.016973Z",
          "iopub.execute_input": "2024-05-13T11:41:45.017232Z",
          "iopub.status.idle": "2024-05-13T11:41:45.025907Z",
          "shell.execute_reply.started": "2024-05-13T11:41:45.017210Z",
          "shell.execute_reply": "2024-05-13T11:41:45.025239Z"
        },
        "trusted": true,
        "colab": {
          "base_uri": "https://localhost:8080/",
          "height": 549
        },
        "id": "f5Uabrp357Tp",
        "outputId": "898bb337-e540-4da7-cf7d-50f1f204c84f"
      },
      "execution_count": null,
      "outputs": [
        {
          "output_type": "display_data",
          "data": {
            "text/plain": [
              "<Figure size 500x580 with 2 Axes>"
            ],
            "image/png": "[encoded data removed]"
          },
          "metadata": {}
        }
      ]
    },
    {
      "cell_type": "markdown",
      "source": [
        "## Random walk based PRLS"
      ],
      "metadata": {
        "id": "aI8Gdtdw57Ts"
      }
    },
    {
      "cell_type": "code",
      "source": [
        "alpha = 100\n",
        "A_hat_tests = []\n",
        "recoms_tests = []\n",
        "d = 0.8\n",
        "lambda_ = 50\n",
        "p, q = possible_pq[-1]\n",
        "ks = [1, 3, 5, 7, 10, 13]\n",
        "for K in ks:\n",
        "    S1 = sp.hstack([np.zeros((n_items, n_items)), A.T])\n",
        "    S2 = sp.hstack([A, np.zeros((n_users, n_users))])\n",
        "\n",
        "    S = sp.csr_matrix(sp.vstack([S1, S2]))\n",
        "    S = sp.csr_matrix(alpha * np.diag(1. / (S @ np.ones(S.shape[1]))) @ S)\n",
        "    solution_test = find_solution(p, q, S, lambda_)\n",
        "    sigma_hat_lambda_test = inverse_permutation_operator(solution_test, p, q)\n",
        "    our_scores = np.linalg.matrix_power(sigma_hat_lambda_test, K)[n_items:, :n_items]\n",
        "    downvote_seen_items(our_scores, testset, data_description)\n",
        "    A_hat_tests.append(our_scores)\n",
        "\n",
        "    recoms = topn_recommendations(our_scores)\n",
        "    recoms_tests.append(recoms)\n",
        "\n",
        "    hr, mrr, coverage = model_evaluate(recoms, holdout, data_description)\n",
        "    print(f\"k = {K}\")\n",
        "    print(f\"p = {p}, q = {q} \\nhit rate = {hr}, mrr = {mrr}, cov = {coverage}\")"
      ],
      "metadata": {
        "id": "6THzbxcTB6En"
      },
      "execution_count": null,
      "outputs": []
    },
    {
      "cell_type": "code",
      "source": [
        "#from the experiments it was observed:\n",
        "hrs = [0.028325, 0.038264, 0.037767, 0.037767,0.038595, 0.037767]\n",
        "mrrs = [0.009929, 0.013786, 0.013477, 0.0134777, 0.0137853, 0.013477]\n",
        "covs = [0.76485, 0.045626, 0.045626, 0.045626, 0.029697, 0.045626]\n",
        "f, axs = plt.subplots(2, figsize=(5, 5.8))\n",
        "\n",
        "axs[0].plot(ks[1:], hrs[1:], label=\"HR@10\")\n",
        "axs[0].plot(ks[1:], mrrs[1:], label=\"MRR@10\")\n",
        "# axs[0].set_xlabel(\"ks\")\n",
        "axs[0].set_ylabel(\"metrics value\")\n",
        "axs[0].legend()\n",
        "\n",
        "axs[1].plot(ks[1:], covs[1:], label=\"COV@10\", c='g')\n",
        "axs[1].set_xlabel(\"ks\")\n",
        "axs[1].set_ylabel(\"metrics value\")\n",
        "axs[1].legend()\n",
        "\n",
        "axs[0].set_title(\"Dependence of HR, MRR and COV on K\")\n",
        "plt.show()"
      ],
      "metadata": {
        "trusted": true,
        "colab": {
          "base_uri": "https://localhost:8080/",
          "height": 549
        },
        "id": "P661Vvkv57Tw",
        "outputId": "2af1b172-c6e3-4e51-dbcb-174350c75100"
      },
      "execution_count": null,
      "outputs": [
        {
          "output_type": "display_data",
          "data": {
            "text/plain": [
              "<Figure size 500x580 with 2 Axes>"
            ],
            "image/png": "[encoded data removed]"
          },
          "metadata": {}
        }
      ]
    },
    {
      "cell_type": "markdown",
      "source": [
        "## Regularized random walk based PRLS"
      ],
      "metadata": {
        "id": "RBZe_makCMp5"
      }
    },
    {
      "cell_type": "code",
      "source": [
        "A_hat_tests = []\n",
        "recoms_tests = []\n",
        "lambda_ = 50\n",
        "for d in [0.7, 0.75, 0.8, 0.85]:\n",
        "    for K in [8]:\n",
        "        alpha = 10**(-int(K // 2))\n",
        "        A_coefs = []\n",
        "        for i in range(A.shape[1]):\n",
        "            A_coefs.append(euclidean(A[:, i].A[:, 0], np.zeros(A.shape[0]))**(d - 1))\n",
        "        A_coefs = np.array(A_coefs)\n",
        "        A_reg = sp.csr_matrix(A @ np.diag(A_coefs))\n",
        "        assert A.shape == A_reg.shape\n",
        "        A_reg = A\n",
        "\n",
        "        S1 = sp.hstack([np.zeros((n_items, n_items)), A_reg.T])\n",
        "        S2 = sp.hstack([A_reg, np.zeros((n_users, n_users))])\n",
        "\n",
        "        S = sp.csr_matrix(sp.vstack([S1, S2]))\n",
        "        S = sp.csr_matrix(alpha * np.diag(1. / (S @ np.ones(S.shape[1]))) @ S)\n",
        "        for p, q in [possible_pq[-1]]:\n",
        "            solution_test = find_solution(p, q, S, lambda_)\n",
        "            sigma_hat_lambda_test = inverse_permutation_operator(solution_test, p, q)\n",
        "            our_scores = np.linalg.matrix_power(sigma_hat_lambda_test, K)[n_items:, :n_items]\n",
        "            downvote_seen_items(our_scores, testset, data_description)\n",
        "            A_hat_tests.append(our_scores)\n",
        "\n",
        "            recoms = topn_recommendations(our_scores)\n",
        "            recoms_tests.append(recoms)\n",
        "\n",
        "            hr, mrr, coverage = model_evaluate(recoms, holdout, data_description)\n",
        "            print(f\"k = {K}, d = {d}\")\n",
        "            print(f\"p = {p}, q = {q} \\nhit rate = {hr}, mrr = {mrr}, cov = {coverage}\")"
      ],
      "metadata": {
        "execution": {
          "iopub.status.busy": "2024-05-13T11:41:45.065791Z",
          "iopub.execute_input": "2024-05-13T11:41:45.066554Z"
        },
        "trusted": true,
        "id": "wRFyxhPs57Tu",
        "outputId": "d30e5cb4-29e0-4024-8988-a5a046631bc8"
      },
      "execution_count": null,
      "outputs": [
        {
          "name": "stdout",
          "text": "[0.20628248 0.26064175 0.28030064 ... 0.3697973  0.37911272 0.27339491]\nsvd done\n",
          "output_type": "stream"
        }
      ]
    }
  ]
}